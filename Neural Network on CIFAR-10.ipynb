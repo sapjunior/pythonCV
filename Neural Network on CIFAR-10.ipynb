{
 "cells": [
  {
   "cell_type": "markdown",
   "metadata": {},
   "source": [
    "<h1>Getting the CIFAR-10 dataset</h1>\n",
    "In this notebook we will mainly use the well-known CIFAR-10 dataset which can be download from https://www.cs.toronto.edu/~kriz/cifar.html\n",
    "\n",
    "The CIFAR-10 dataset consists of 60000 32x32 colour images in 10 classes, with 6000 images per class. There are 50000 training images and 10000 test images. "
   ]
  },
  {
   "cell_type": "code",
   "execution_count": 71,
   "metadata": {
    "collapsed": true
   },
   "outputs": [],
   "source": [
    "import struct\n",
    "import os\n",
    "import sys\n",
    "import numpy as np\n",
    "import hashlib\n",
    "import tarfile\n",
    "import random\n",
    "from urllib.request import urlretrieve\n",
    "import matplotlib.pyplot as plt\n",
    "from timeit import default_timer as timer\n",
    "%matplotlib inline"
   ]
  },
  {
   "cell_type": "markdown",
   "metadata": {},
   "source": [
    "Use old download helper function from previous notebook"
   ]
  },
  {
   "cell_type": "code",
   "execution_count": 72,
   "metadata": {
    "collapsed": true
   },
   "outputs": [],
   "source": [
    "# Download utility function\n",
    "def downloadProgressCallBack(blocknum, blocksize, totalsize):\n",
    "    readsofar = blocknum * blocksize\n",
    "    if totalsize > 0:\n",
    "        percent = readsofar * 1e2 / totalsize\n",
    "        s = \"\\r%5.1f%% %*d / %d\" % (\n",
    "            percent, len(str(totalsize)), readsofar, totalsize)\n",
    "        sys.stderr.write(s)\n",
    "        if readsofar >= totalsize: # near the end\n",
    "            sys.stderr.write(\"\\n\")\n",
    "    else: # total size is unknown\n",
    "        sys.stderr.write(\"read %d\\n\" % (readsofar,))\n",
    "\n",
    "# File integrety checker\n",
    "def md5Checksum(filename):\n",
    "    md5 = hashlib.md5()\n",
    "    with open(filename,'rb') as f: \n",
    "        for chunk in iter(lambda: f.read(8192), b''): \n",
    "            md5.update(chunk)\n",
    "    return md5.hexdigest()"
   ]
  },
  {
   "cell_type": "markdown",
   "metadata": {},
   "source": [
    "Download and extract .tar.gz archive"
   ]
  },
  {
   "cell_type": "code",
   "execution_count": 73,
   "metadata": {},
   "outputs": [
    {
     "name": "stdout",
     "output_type": "stream",
     "text": [
      "cifar-10-python.tar.gz is already exist and md5sum is match\n",
      "Extracting dataset\n",
      "Finish!\n"
     ]
    }
   ],
   "source": [
    "baseCIFARurl=\"https://www.cs.toronto.edu/~kriz/\"\n",
    "cifarDatasetFileNames = [\"cifar-10-python.tar.gz\"]\n",
    "cifarMD5sum = [\"c58f30108f718f92721af3b95e74349a\"]\n",
    "extractedPath = \".\"\n",
    "\n",
    "for fileNo in range(0,len(cifarDatasetFileNames)):\n",
    "    if os.path.exists(cifarDatasetFileNames[fileNo]) and md5Checksum(cifarDatasetFileNames[fileNo]) == cifarMD5sum[fileNo]:\n",
    "        print(cifarDatasetFileNames[fileNo] + ' is already exist and md5sum is match')\n",
    "    else:\n",
    "        print('Downloading '+cifarDatasetFileNames[fileNo])\n",
    "        urlretrieve(baseCIFARurl+cifarDatasetFileNames[fileNo],cifarDatasetFileNames[fileNo], downloadProgressCallBack)\n",
    "        \n",
    "    # Decompress .tar.gz \n",
    "    print(\"Extracting dataset\")\n",
    "    tarfile.open(name=cifarDatasetFileNames[fileNo], mode=\"r:gz\").extractall(extractedPath)\n",
    "    print(\"Finish!\")"
   ]
  },
  {
   "cell_type": "markdown",
   "metadata": {},
   "source": [
    "# Dataset exploring\n",
    "Now, CIFAR-10 dataset is extracted into \"cifar-10-batches-py\" directory. This dataset in its original form is divided into 5 training batches and one test batch, each with 10000 images in data_batch_1 to data_batch_5 files . The test batch contains exactly 1000 randomly drawn images from each class.\n",
    "\n",
    "We will use unpickle function provided by the dataset owners to extract and explore "
   ]
  },
  {
   "cell_type": "code",
   "execution_count": 91,
   "metadata": {
    "collapsed": true
   },
   "outputs": [],
   "source": [
    "def unpickle(file):\n",
    "    import pickle\n",
    "    with open(file, 'rb') as fo:\n",
    "        dict = pickle.load(fo, encoding='bytes')\n",
    "    return dict"
   ]
  },
  {
   "cell_type": "markdown",
   "metadata": {},
   "source": [
    "The output from unpickle function is a dict with the following keys:\n",
    "\n",
    "data -- a 10000x3072 numpy array of uint8s. Each row of the array stores a 32x32 colour image. The first 1024 entries contain the red channel values, the next 1024 the green, and the final 1024 the blue. The image is stored in row-major order, so that the first 32 entries of the array are the red channel values of the first row of the image.\n",
    "\n",
    "labels -- a list of 10000 numbers in the range 0-9. The number at index i indicates the label of the ith image in the array data.\n",
    "\n",
    "However, after explore the output dict keys, we need to append 'b' in front of the original key to propely gather the data!"
   ]
  },
  {
   "cell_type": "code",
   "execution_count": 98,
   "metadata": {},
   "outputs": [
    {
     "name": "stdout",
     "output_type": "stream",
     "text": [
      "Image data in cifar-10-batches-py/data_batch_1  dimension (10000, 3072)\n",
      "(10000, 32, 32, 3)\n",
      "Image data in cifar-10-batches-py/data_batch_2  dimension (10000, 3072)\n",
      "(10000, 32, 32, 3)\n",
      "Image data in cifar-10-batches-py/data_batch_3  dimension (10000, 3072)\n",
      "(10000, 32, 32, 3)\n",
      "Image data in cifar-10-batches-py/data_batch_4  dimension (10000, 3072)\n",
      "(10000, 32, 32, 3)\n",
      "Image data in cifar-10-batches-py/data_batch_5  dimension (10000, 3072)\n",
      "(10000, 32, 32, 3)\n",
      "Training data dimension (50000, 32, 32, 3)\n",
      "Training label dimension (50000,)\n"
     ]
    }
   ],
   "source": [
    "# For simplicity in training process, merge five training batches into 1 numpy array\n",
    "trainingDatasetBaseFileName = \"cifar-10-batches-py/data_batch_\"\n",
    "trainingImages = np.empty((0,32,32,3),dtype=np.uint8)\n",
    "trainingLabels = np.empty((0,),dtype=np.uint8)\n",
    "\n",
    "for trainingBatchNo in range(1,6):\n",
    "    outputDict = unpickle(trainingDatasetBaseFileName + str(trainingBatchNo))\n",
    "    print('Image data in',trainingDatasetBaseFileName + str(trainingBatchNo),' dimension',outputDict[b'data'].shape)\n",
    "    # Stack in row-wise order\n",
    "    data = outputDict[b'data'].reshape(10000, 3, 32, 32).transpose(0,2,3,1).astype(\"uint8\")\n",
    "    print(data.shape)\n",
    "    trainingImages = np.concatenate((trainingImages,data),axis=0)\n",
    "    # Since the label is in list format, convert them into row-wise numpy array\n",
    "    trainingLabels = np.hstack((trainingLabels,np.array(outputDict[b'labels'])))\n",
    "print('Training data dimension',trainingImages.shape)\n",
    "print('Training label dimension',trainingLabels.shape)"
   ]
  },
  {
   "cell_type": "code",
   "execution_count": 100,
   "metadata": {},
   "outputs": [
    {
     "name": "stdout",
     "output_type": "stream",
     "text": [
      "Test data dimension (10000, 32, 32, 3)\n",
      "Test label dimension (10000,)\n"
     ]
    }
   ],
   "source": [
    "# Test data\n",
    "testDataDict = unpickle(\"cifar-10-batches-py/test_batch\")\n",
    "testImages = testDataDict[b'data'].reshape(10000, 3, 32, 32).transpose(0,2,3,1).astype(\"uint8\")\n",
    "testLabels = np.array(testDataDict[b'labels'])\n",
    "print('Test data dimension',testImages.shape)\n",
    "print('Test label dimension',testLabels.shape)"
   ]
  },
  {
   "cell_type": "code",
   "execution_count": 101,
   "metadata": {},
   "outputs": [],
   "source": [
    "# Save our organize dataset form into single npz file\n",
    "np.savez('cifar-10.npz', trainingImages=trainingImages, trainingLabels=trainingLabels,testImages=testImages,testLabels=testLabels)\n",
    "# Delete all variables and load from file insted\n",
    "del outputDict,trainingImages,trainingLabels,testImages,testLabels,testDataDict"
   ]
  },
  {
   "cell_type": "code",
   "execution_count": 102,
   "metadata": {},
   "outputs": [
    {
     "name": "stdout",
     "output_type": "stream",
     "text": [
      "Training Images Dimension: (50000, 32, 32, 3)\n",
      "Training Labels Dimension: (50000,)\n",
      "Test Images Dimension: (10000, 32, 32, 3)\n",
      "Test Labels Dimenstion: (10000,)\n"
     ]
    }
   ],
   "source": [
    "# Load our dataset from file\n",
    "loadNPZ = np.load('cifar-10.npz')\n",
    "trainingImages = loadNPZ['trainingImages']\n",
    "trainingLabels = loadNPZ['trainingLabels']\n",
    "testImages = loadNPZ['testImages']\n",
    "testLabels = loadNPZ['testLabels']\n",
    "print(\"Training Images Dimension:\",trainingImages.shape)\n",
    "print(\"Training Labels Dimension:\",trainingLabels.shape)\n",
    "print(\"Test Images Dimension:\",testImages.shape)\n",
    "print(\"Test Labels Dimenstion:\",testLabels.shape)"
   ]
  },
  {
   "cell_type": "code",
   "execution_count": 126,
   "metadata": {},
   "outputs": [],
   "source": [
    "# Define label dict\n",
    "labelDict = {0:\"airplane\",1:\"automobile\",2:\"bird\",3:\"cat\",4:\"deer\",5:\"dog\",6:\"frog\",7:\"horse\",8:\"ship\",9:\"truck\"}"
   ]
  },
  {
   "cell_type": "markdown",
   "metadata": {},
   "source": [
    "Randomy shown training and testing images their actual label"
   ]
  },
  {
   "cell_type": "code",
   "execution_count": 131,
   "metadata": {},
   "outputs": [
    {
     "data": {
      "image/png": "[encoded data removed]",
      "text/plain": [
       "<matplotlib.figure.Figure at 0x7fc400629c50>"
      ]
     },
     "metadata": {},
     "output_type": "display_data"
    },
    {
     "name": "stdout",
     "output_type": "stream",
     "text": [
      "Class Label: 6 9 4\n",
      "Class Label: frog truck deer\n"
     ]
    }
   ],
   "source": [
    "randomIdx = random.sample(range(trainingImages.shape[0]),3)\n",
    "randomImage = trainingImages[randomIdx,:,:,:]\n",
    "concatRandomImage = np.concatenate((randomImage[0,:,:,:],randomImage[1,:,:,:],randomImage[2,:,:,:]),axis=1)\n",
    "plt.figure()\n",
    "plt.imshow(concatRandomImage)\n",
    "plt.show()\n",
    "print('Class Label:',trainingLabels[randomIdx[0]],trainingLabels[randomIdx[1]],trainingLabels[randomIdx[2]])\n",
    "print('Class Label:',labelDict[trainingLabels[randomIdx[0]]],\n",
    "      labelDict[trainingLabels[randomIdx[1]]],labelDict[trainingLabels[randomIdx[2]]])"
   ]
  },
  {
   "cell_type": "code",
   "execution_count": 154,
   "metadata": {},
   "outputs": [
    {
     "name": "stdout",
     "output_type": "stream",
     "text": [
      "Prepare Training Images Dimension: (50000, 3072)\n",
      "Prepare Test Images Dimension: (10000, 3072)\n"
     ]
    }
   ],
   "source": [
    "# Reshape data into RGB pixel-wise row vector and convert into float32 to prevent calculation overflow\n",
    "prepTrainingImages = trainingImages.reshape(trainingImages.shape[0],3072).astype(np.float32)\n",
    "prepTestImages = testImages.reshape(testImages.shape[0],3072).astype(np.float32)\n",
    "print('Prepare Training Images Dimension:',prepTrainingImages.shape)\n",
    "print('Prepare Test Images Dimension:',prepTestImages.shape)"
   ]
  },
  {
   "cell_type": "code",
   "execution_count": 160,
   "metadata": {},
   "outputs": [
    {
     "name": "stdout",
     "output_type": "stream",
     "text": [
      "Prepare Training Label Dimension: (50000, 10)\n",
      "Prepare Test Label Dimension: (10000, 10)\n"
     ]
    }
   ],
   "source": [
    "# Create one-hot encoded vector for both training and test target output vector\n",
    "prepTrainingLabels = np.zeros((trainingLabels.size, trainingLabels.max()+1)).astype(np.float32)\n",
    "prepTrainingLabels[np.arange(trainingLabels.shape[0]), trainingLabels] = 1\n",
    "prepTestLabels = np.zeros((testLabels.size, testLabels.max()+1)).astype(np.float32)\n",
    "prepTestLabels[np.arange(testLabels.shape[0]), testLabels] = 1\n",
    "print('Prepare Training Label Dimension:',prepTrainingLabels.shape)\n",
    "print('Prepare Test Label Dimension:',prepTestLabels.shape)"
   ]
  },
  {
   "cell_type": "markdown",
   "metadata": {},
   "source": [
    "Now, we already prepare data and label for training/test in row vector form, Let's begin your own neural network implementation by using the following program skeleton\n",
    "Remark : This is just a minimal skeleton. YOU CAN IMPLEMENT YOUR OWN FUNCTIONS, MODIFY FUNCTION PARAMS OR ANYTHING YOU CAN IMAGINE TO GET IT WORK!!"
   ]
  },
  {
   "cell_type": "code",
   "execution_count": 156,
   "metadata": {},
   "outputs": [
    {
     "ename": "SyntaxError",
     "evalue": "unexpected EOF while parsing (<ipython-input-156-21d922c9be53>, line 2)",
     "output_type": "error",
     "traceback": [
      "\u001b[0;36m  File \u001b[0;32m\"<ipython-input-156-21d922c9be53>\"\u001b[0;36m, line \u001b[0;32m2\u001b[0m\n\u001b[0;31m    \u001b[0m\n\u001b[0m    ^\u001b[0m\n\u001b[0;31mSyntaxError\u001b[0m\u001b[0;31m:\u001b[0m unexpected EOF while parsing\n"
     ]
    }
   ],
   "source": [
    "class neuralNetwork(object):\n",
    "    def __init__(self, input, hidden, output, iterations, learning_rate):\n",
    "        \"\"\"\n",
    "        input : size of input neurons (number of feature)\n",
    "        hidden: number of hidden neurons (how many hidden node?)\n",
    "        output: number of output neurons (number of output class)\n",
    "        \"\"\"\n",
    "        self.iterations = iterations\n",
    "        self.learning_rate = learning_rate\n",
    "        self.momentum = momentum\n",
    "        self.verbose = verbose # For debugging\n",
    "        self.output_activation = output_layer\n",
    "        self.input = input \n",
    "        self.hidden = hidden\n",
    "        self.output = output\n",
    "        \n",
    "        # Weight matrix randomization\n",
    "        # Tips : https://docs.scipy.org/doc/numpy-1.13.0/reference/generated/numpy.random.rand.html\n",
    "    def feedForward(self, inputs):\n",
    "        ''' \n",
    "        Run through all the nodes in the network from input layer to output layers by \n",
    "        calculate the outputs from the input layer multiply with their corresponded weights\n",
    "        Don't forget that you have to applied the chosen activate function to the multiplication result before\n",
    "        passed to the next layer.\n",
    "        inputs: input data\n",
    "        return: output vector\n",
    "        '''\n",
    "        \n",
    "        # Hidden layer , gather the input vector, multiply by corresponded weight, sum the result and \n",
    "        # apply chosen activate function\n",
    "        \n",
    "        \n",
    "        \n",
    "        # Output layer\n",
    "        \n",
    "        \n",
    "        return \n",
    "    \n",
    "    def backProp(self, targets):\n",
    "        ''' \n",
    "        For the output layer\n",
    "        - Calculates the diff between output and target vector\n",
    "        - Calculate the derivative of the sigmoid function to determine how much the weights need to change\n",
    "        - Update the layer weights based on the learning rate and sigmoid grad\n",
    "        For the hidden layer\n",
    "        - Calculate the sum of the strength of each output link multiplied by how much the target node has to change\n",
    "        - Calculate the derivative of the sigmoid function to determine how much the weights need to change\n",
    "        - Update the weights based on learning rate and derivative\n",
    "        targets: actual output vector\n",
    "        N: learning rate\n",
    "        return: updated weight matrix\n",
    "        '''\n",
    "        # calculate error and gradient direction based on actual output vector\n",
    "        # the delta (theta) tell you which direction to change the weights\n",
    "        \n",
    "        \n",
    "        # calculate error and gradient direction for hidden layer\n",
    "        \n",
    "        \n",
    "        # update the weights connecting hidden -> output\n",
    "        \n",
    "\n",
    "        # update the weights connecting input -> hidden\n",
    "\n",
    "\n",
    "        # calculate error\n",
    "\n",
    "        \n",
    "        return ?\n",
    "    \n",
    "     def predict(self, input):\n",
    "        # For single instance prediction\n",
    "        if(input.shape(0) == 1):\n",
    "            print('Output Layer Result:',self.feedForward(input))\n",
    "\n",
    "    def test(self,inputs,labels):\n",
    "        # Apply feedForward and compare the result to actual label\n",
    "        \n",
    "    def train(self, inputs,labels,test_inputs,test_labels):\n",
    "        for iteration in range(self.iterations):\n",
    "            # To ensure that the each iteration is not order correlated, you should apply data shuffling first\n",
    "            \n",
    "            # Feedforward\n",
    "            \n",
    "            # Backprop to update weight\n",
    "            \n",
    "            # Calculate accuray on test dataset at every X iteration and print the result\n",
    "            \n",
    "            # You may plot accuray and grad_error as graph to  ensure that you are working in right direction\n",
    "            \n",
    "            # You should decay your learning rate over the period of the training based on some criterions, such as\n",
    "            # halves at every X iterations\n",
    "            \n",
    "            "
   ]
  },
  {
   "cell_type": "code",
   "execution_count": null,
   "metadata": {
    "collapsed": true
   },
   "outputs": [],
   "source": [
    "# Call your created NN\n",
    "ann = neuralNetwork(64, 100, 10, iterations = , learning_rate = )\n",
    "ann.train(prepTrainingImages,prepTrainingLabels,prepTestImages,prepTestLabels)"
   ]
  },
  {
   "cell_type": "code",
   "execution_count": null,
   "metadata": {
    "collapsed": true
   },
   "outputs": [],
   "source": [
    "# Plot the confusion matrix"
   ]
  }
 ],
 "metadata": {
  "kernelspec": {
   "display_name": "Python 3",
   "language": "python",
   "name": "python3"
  },
  "language_info": {
   "codemirror_mode": {
    "name": "ipython",
    "version": 3
   },
   "file_extension": ".py",
   "mimetype": "text/x-python",
   "name": "python",
   "nbconvert_exporter": "python",
   "pygments_lexer": "ipython3",
   "version": "3.6.3"
  }
 },
 "nbformat": 4,
 "nbformat_minor": 2
}
