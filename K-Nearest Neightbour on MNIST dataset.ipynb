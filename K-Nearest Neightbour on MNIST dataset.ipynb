{
 "cells": [
  {
   "cell_type": "markdown",
   "metadata": {},
   "source": [
    "<h1>Getting the MNIST dataset files</h1>\n",
    "\n",
    "In this notebook we will mainly use the well-known MNIST handwritten digit dataset gather from http://yann.lecun.com/exdb/mnist/ "
   ]
  },
  {
   "cell_type": "code",
   "execution_count": 1,
   "metadata": {
    "collapsed": true
   },
   "outputs": [],
   "source": [
    "import struct\n",
    "import os\n",
    "import sys\n",
    "import numpy as np\n",
    "import hashlib\n",
    "import gzip\n",
    "import random\n",
    "from urllib.request import urlretrieve\n",
    "import matplotlib.pyplot as plt\n",
    "from multiprocessing.dummy import Pool as ThreadPool\n",
    "import itertools\n",
    "from timeit import default_timer as timer\n",
    "%matplotlib inline"
   ]
  },
  {
   "cell_type": "code",
   "execution_count": 2,
   "metadata": {
    "collapsed": true
   },
   "outputs": [],
   "source": [
    " # Download utility function\n",
    "def downloadProgressCallBack(blocknum, blocksize, totalsize):\n",
    "    readsofar = blocknum * blocksize\n",
    "    if totalsize > 0:\n",
    "        percent = readsofar * 1e2 / totalsize\n",
    "        s = \"\\r%5.1f%% %*d / %d\" % (\n",
    "            percent, len(str(totalsize)), readsofar, totalsize)\n",
    "        sys.stderr.write(s)\n",
    "        if readsofar >= totalsize: # near the end\n",
    "            sys.stderr.write(\"\\n\")\n",
    "    else: # total size is unknown\n",
    "        sys.stderr.write(\"read %d\\n\" % (readsofar,))\n",
    "\n",
    "# File integrety checker\n",
    "def md5Checksum(filename):\n",
    "    md5 = hashlib.md5()\n",
    "    with open(filename,'rb') as f: \n",
    "        for chunk in iter(lambda: f.read(8192), b''): \n",
    "            md5.update(chunk)\n",
    "    return md5.hexdigest()"
   ]
  },
  {
   "cell_type": "code",
   "execution_count": 3,
   "metadata": {},
   "outputs": [
    {
     "name": "stdout",
     "output_type": "stream",
     "text": [
      "train-images-idx3-ubyte.gz is already exist\n",
      "train-labels-idx1-ubyte.gz is already exist\n",
      "t10k-images-idx3-ubyte.gz is already exist\n",
      "t10k-labels-idx1-ubyte.gz is already exist\n"
     ]
    }
   ],
   "source": [
    "baseMNISTurl=\"http://yann.lecun.com/exdb/mnist/\"\n",
    "mnistDatasetFileNames = [\"train-images-idx3-ubyte\",\"train-labels-idx1-ubyte\",\"t10k-images-idx3-ubyte\",\"t10k-labels-idx1-ubyte\"]\n",
    "for fileNo in range(0,len(mnistDatasetFileNames)):\n",
    "    if os.path.exists(mnistDatasetFileNames[fileNo]+\".gz\"):\n",
    "        print(mnistDatasetFileNames[fileNo]+\".gz\" + ' is already exist')\n",
    "    else:\n",
    "        print('Downloading '+mnistDatasetFileNames[fileNo])\n",
    "        urlretrieve(baseMNISTurl+mnistDatasetFileNames[fileNo]+\".gz\",mnistDatasetFileNames[fileNo]+\".gz\", downloadProgressCallBack)\n",
    "        \n",
    "        # Decompress .gz \n",
    "        with gzip.open(mnistDatasetFileNames[fileNo]+\".gz\", 'rb') as in_file:\n",
    "            tempUncompressed = in_file.read()\n",
    "            \n",
    "        # Store uncompressed file\n",
    "        with open(mnistDatasetFileNames[fileNo], 'wb') as f:\n",
    "            f.write(tempUncompressed)\n",
    "            "
   ]
  },
  {
   "cell_type": "markdown",
   "metadata": {},
   "source": [
    "<h3>Parse dataset into numpy array</h3>"
   ]
  },
  {
   "cell_type": "code",
   "execution_count": 4,
   "metadata": {
    "collapsed": true
   },
   "outputs": [],
   "source": [
    "# MNIST dataser idx format parser \n",
    "# Code Snippet from : https://gist.github.com/tylerneylon/ce60e8a06e7506ac45788443f7269e40\n",
    "def mnistParser(filename):\n",
    "    with open(filename, 'rb') as f:\n",
    "        zero, data_type, dims = struct.unpack('>HBB', f.read(4))\n",
    "        shape = tuple(struct.unpack('>I', f.read(4))[0] for d in range(dims))\n",
    "        return np.fromstring(f.read(), dtype=np.uint8).reshape(shape)"
   ]
  },
  {
   "cell_type": "code",
   "execution_count": 5,
   "metadata": {
    "collapsed": true
   },
   "outputs": [],
   "source": [
    "trainingImages = mnistParser(mnistDatasetFileNames[0])\n",
    "trainingLabels = mnistParser(mnistDatasetFileNames[1])\n",
    "testImages = mnistParser(mnistDatasetFileNames[2])\n",
    "testLabels = mnistParser(mnistDatasetFileNames[3])"
   ]
  },
  {
   "cell_type": "markdown",
   "metadata": {},
   "source": [
    "Now we have our dataset loaded in above variables as numpy array"
   ]
  },
  {
   "cell_type": "code",
   "execution_count": 6,
   "metadata": {},
   "outputs": [
    {
     "name": "stdout",
     "output_type": "stream",
     "text": [
      "Training Images Dimension: (60000, 28, 28)\n",
      "Training Labels Dimension: (60000,)\n",
      "Test Images Dimension: (10000, 28, 28)\n",
      "Test Labels Dimenstion: (10000,)\n"
     ]
    }
   ],
   "source": [
    "print(\"Training Images Dimension:\",trainingImages.shape)\n",
    "print(\"Training Labels Dimension:\",trainingLabels.shape)\n",
    "print(\"Test Images Dimension:\",testImages.shape)\n",
    "print(\"Test Labels Dimenstion:\",testLabels.shape)"
   ]
  },
  {
   "cell_type": "markdown",
   "metadata": {},
   "source": [
    "Randomly pick and visualize some images"
   ]
  },
  {
   "cell_type": "code",
   "execution_count": 7,
   "metadata": {},
   "outputs": [
    {
     "data": {
      "image/png": "[encoded data removed]",
      "text/plain": [
       "<matplotlib.figure.Figure at 0x7f09b7911a20>"
      ]
     },
     "metadata": {},
     "output_type": "display_data"
    },
    {
     "name": "stdout",
     "output_type": "stream",
     "text": [
      "Class Label: 1 6 6\n"
     ]
    }
   ],
   "source": [
    "randomIdx = random.sample(range(trainingImages.shape[0]), 3)\n",
    "randomImage = trainingImages[randomIdx,:,:].transpose(1,2,0)\n",
    "concatRandomImage = np.concatenate((randomImage[:,:,0],randomImage[:,:,1],randomImage[:,:,2]),axis=1)\n",
    "plt.figure()\n",
    "plt.imshow(concatRandomImage[:,:],cmap='gray')\n",
    "plt.show()\n",
    "print('Class Label:',trainingLabels[randomIdx[0]],trainingLabels[randomIdx[1]],trainingLabels[randomIdx[2]])"
   ]
  },
  {
   "cell_type": "markdown",
   "metadata": {},
   "source": [
    "Save the data to file for later used"
   ]
  },
  {
   "cell_type": "code",
   "execution_count": 8,
   "metadata": {
    "collapsed": true
   },
   "outputs": [],
   "source": [
    "np.savez('mnist.npz', trainingImages=trainingImages, trainingLabels=trainingLabels,testImages=testImages,testLabels=testLabels)"
   ]
  },
  {
   "cell_type": "markdown",
   "metadata": {},
   "source": [
    "<h1> K-Nearest Neightbour </h1>\n",
    "K-Nearest Neightbour is a simple non-parametric method used in many classification task. The main idea of this algorithm is very simple. We will pick the top k closest images from the training set, and have them vote on the label of the test image. Generally ,the higher values of k have a smoothing effect that makes the classifier more resistant to outliers."
   ]
  },
  {
   "cell_type": "markdown",
   "metadata": {},
   "source": [
    "Load dataset from existing npz file"
   ]
  },
  {
   "cell_type": "code",
   "execution_count": 9,
   "metadata": {},
   "outputs": [
    {
     "name": "stdout",
     "output_type": "stream",
     "text": [
      "Training Images Dimension: (60000, 28, 28)\n",
      "Training Labels Dimension: (60000,)\n",
      "Test Images Dimension: (10000, 28, 28)\n",
      "Test Labels Dimenstion: (10000,)\n"
     ]
    }
   ],
   "source": [
    "loadNPZ = np.load('mnist.npz')\n",
    "trainingImages = loadNPZ['trainingImages']\n",
    "trainingLabels = loadNPZ['trainingLabels']\n",
    "testImages = loadNPZ['testImages']\n",
    "testLabels = loadNPZ['testLabels']\n",
    "print(\"Training Images Dimension:\",trainingImages.shape)\n",
    "print(\"Training Labels Dimension:\",trainingLabels.shape)\n",
    "print(\"Test Images Dimension:\",testImages.shape)\n",
    "print(\"Test Labels Dimenstion:\",testLabels.shape)"
   ]
  },
  {
   "cell_type": "markdown",
   "metadata": {},
   "source": [
    "Reshape images array into 1-D vector (each row represents 1 image)"
   ]
  },
  {
   "cell_type": "code",
   "execution_count": 10,
   "metadata": {},
   "outputs": [
    {
     "name": "stdout",
     "output_type": "stream",
     "text": [
      "Training Images Dimension: (60000, 784)\n",
      "Test Images Dimension: (10000, 784)\n"
     ]
    }
   ],
   "source": [
    "if len(trainingImages.shape) == 3 and len(testImages.shape) == 3:\n",
    "    trainingImages = trainingImages.reshape(trainingImages.shape[0],trainingImages.shape[1]*trainingImages.shape[2])\n",
    "    testImages = testImages.reshape(testImages.shape[0],testImages.shape[1]*testImages.shape[2])\n",
    "print(\"Training Images Dimension:\",trainingImages.shape)\n",
    "print(\"Test Images Dimension:\",testImages.shape)\n",
    "testImages = testImages.astype(np.float32)\n",
    "trainingImages = trainingImages.astype(np.float32)"
   ]
  },
  {
   "cell_type": "code",
   "execution_count": 11,
   "metadata": {
    "collapsed": true
   },
   "outputs": [],
   "source": [
    "def kNearestNeighbour(trainingImages,trainingLabels,testImages,k):\n",
    "\n",
    "    if k%2 == 0:\n",
    "        print(\"K must be odd\")\n",
    "        return\n",
    "    if len(testImages.shape)!=2:\n",
    "        print(\"testImage dimension should be (imageNo,featureLength) but get\",testImages.shape)\n",
    "        return\n",
    "    # Pre-allocate the distance and output array\n",
    "    computeDistance = np.zeros(trainingImages.shape[0]) \n",
    "    outputLabels = np.zeros(testImages.shape[0],dtype=np.uint8)\n",
    "    # Iterate over each input test image\n",
    "    for testImageNo in range(0,testImages.shape[0]):\n",
    "        # Iterate over entire training set \n",
    "        if testImageNo % 10 == 0 and testImageNo !=0:\n",
    "            print(\"Testing on \",testImageNo,\" from \",testImages.shape[0])\n",
    "        # Faster implementation!    \n",
    "        tempArr = np.tile(testImages[testImageNo],(trainingImages.shape[0],1))\n",
    "        computeDistance =  np.linalg.norm(trainingImages - tempArr,axis=1)\n",
    "        #for trainingImageNo in range(0,trainingImages.shape[0]):\n",
    "            # Compute euclidence distance between test and training feature vector\n",
    "        #    computeDistance[trainingImageNo] = np.linalg.norm(trainingImages[trainingImageNo] - testImages[testImageNo])\n",
    "        # Sort computeDistance and kept sorted idx\n",
    "        idx = np.argsort(computeDistance)\n",
    "        # Pick top k closest image from training set and vote for the nearest label (mode!)\n",
    "        pickIdx = idx[0:k]\n",
    "        nearestLabel = np.argmax(np.bincount(trainingLabels[pickIdx]))\n",
    "        outputLabels[testImageNo] = nearestLabel\n",
    "    return outputLabels"
   ]
  },
  {
   "cell_type": "markdown",
   "metadata": {},
   "source": [
    "Apply K Nearest Neighbour to first three elements in test set"
   ]
  },
  {
   "cell_type": "code",
   "execution_count": 12,
   "metadata": {
    "collapsed": true
   },
   "outputs": [],
   "source": [
    "outputLabels = kNearestNeighbour(trainingImages,trainingLabels,testImages[0:3,:],25)"
   ]
  },
  {
   "cell_type": "markdown",
   "metadata": {},
   "source": [
    "Visualize the testing images and show their actual and predicted label"
   ]
  },
  {
   "cell_type": "code",
   "execution_count": 13,
   "metadata": {},
   "outputs": [
    {
     "data": {
      "image/png": "[encoded data removed]",
      "text/plain": [
       "<matplotlib.figure.Figure at 0x7f09b41396a0>"
      ]
     },
     "metadata": {},
     "output_type": "display_data"
    },
    {
     "name": "stdout",
     "output_type": "stream",
     "text": [
      "Actual Class Label: [7 2 1]\n",
      "Predicted Class Label: [7 2 1]\n"
     ]
    }
   ],
   "source": [
    "testSampleImages = testImages[0:3,:].reshape(3,28,28)\n",
    "concatImages = np.concatenate((testSampleImages[0,:,:],testSampleImages[1,:,:],testSampleImages[2,:,:]),axis=1)\n",
    "plt.figure()\n",
    "plt.imshow(concatImages,cmap='gray')\n",
    "plt.show()\n",
    "print('Actual Class Label:',testLabels[0:3])\n",
    "print('Predicted Class Label:',outputLabels)"
   ]
  },
  {
   "cell_type": "markdown",
   "metadata": {},
   "source": [
    "Running Test on first 100 elements"
   ]
  },
  {
   "cell_type": "code",
   "execution_count": 14,
   "metadata": {},
   "outputs": [
    {
     "name": "stdout",
     "output_type": "stream",
     "text": [
      "Testing on  10  from  100\n",
      "Testing on  20  from  100\n",
      "Testing on  30  from  100\n",
      "Testing on  40  from  100\n",
      "Testing on  50  from  100\n",
      "Testing on  60  from  100\n",
      "Testing on  70  from  100\n",
      "Testing on  80  from  100\n",
      "Testing on  90  from  100\n",
      "Single Thread Processing Time:  18.112003962000017  s\n"
     ]
    }
   ],
   "source": [
    "start = timer()\n",
    "predictedLabels = kNearestNeighbour(trainingImages,trainingLabels,testImages[0:100],3)\n",
    "end = timer()\n",
    "singleThreadTime = end - start\n",
    "print(\"Single Thread Processing Time: \",singleThreadTime,\" s\")    "
   ]
  },
  {
   "cell_type": "markdown",
   "metadata": {},
   "source": [
    "Since single version of kNN is exteamly slow, we will try to implement multithread version using starmap"
   ]
  },
  {
   "cell_type": "code",
   "execution_count": 15,
   "metadata": {
    "collapsed": true
   },
   "outputs": [],
   "source": [
    "def map_kNearestNeighbour(trainingImages,trainingLabels,testImage,k):\n",
    "    testImage = testImage.reshape(1,testImage.shape[0])\n",
    "    if k%2 == 0:\n",
    "        print(\"K must be odd\")\n",
    "        return\n",
    "    if testImage.shape[0] !=1:\n",
    "        print(\"Test image size inconsistence\")\n",
    "        return\n",
    "    # Pre-allocate the distance and output array\n",
    "    computeDistance = np.zeros(trainingImages.shape[0]) \n",
    "    outputLabels = np.zeros(testImage.shape[0],dtype=np.uint8)\n",
    "    tempArr = np.tile(testImage,(trainingImages.shape[0],1))\n",
    "    computeDistance =  np.linalg.norm(trainingImages - tempArr,axis=1)\n",
    "    idx = np.argsort(computeDistance)\n",
    "    # Pick top k closest image from training set and vote for the nearest label (mode!)\n",
    "    pickIdx = idx[0:k]\n",
    "    nearestLabel = np.argmax(np.bincount(trainingLabels[pickIdx]))\n",
    "    outputLabels = nearestLabel\n",
    "    return outputLabels"
   ]
  },
  {
   "cell_type": "code",
   "execution_count": 16,
   "metadata": {},
   "outputs": [
    {
     "name": "stdout",
     "output_type": "stream",
     "text": [
      "Multi Thread Processing Time:  14.70705829399958  s\n",
      "Speed gain x 1.231517792337142\n"
     ]
    }
   ],
   "source": [
    "k = 3\n",
    "pool = ThreadPool(4)\n",
    "start = timer()\n",
    "predictedLabelMulti = pool.starmap(map_kNearestNeighbour, zip(itertools.repeat(trainingImages),itertools.repeat(trainingLabels),testImages[0:100,:],itertools.repeat(k)))\n",
    "predictedLabelMulti = np.array(predictedLabelMulti)\n",
    "end = timer()\n",
    "multiThreadTime = end - start\n",
    "print(\"Multi Thread Processing Time: \",multiThreadTime,\" s\") \n",
    "print(\"Speed gain x\",singleThreadTime/multiThreadTime)"
   ]
  },
  {
   "cell_type": "code",
   "execution_count": 17,
   "metadata": {},
   "outputs": [
    {
     "name": "stdout",
     "output_type": "stream",
     "text": [
      "Predicted Result: [7 2 1 0 4 1 4 9 5 9 0 6 9 0 1 5 9 7 3 4 9 6 6 5 4 0 7 4 0 1 3 1 3 4 7 2 7\n",
      " 1 2 1 1 7 4 2 3 5 1 2 4 4 6 3 5 5 6 0 4 1 9 5 7 8 9 3 7 9 6 4 3 0 7 0 2 9\n",
      " 1 7 3 2 9 7 7 6 2 7 8 4 7 3 6 1 3 6 9 3 1 4 1 7 6 9]\n",
      "Actual Result: [7 2 1 0 4 1 4 9 5 9 0 6 9 0 1 5 9 7 3 4 9 6 6 5 4 0 7 4 0 1 3 1 3 4 7 2 7\n",
      " 1 2 1 1 7 4 2 3 5 1 2 4 4 6 3 5 5 6 0 4 1 9 5 7 8 9 3 7 4 6 4 3 0 7 0 2 9\n",
      " 1 7 3 2 9 7 7 6 2 7 8 4 7 3 6 1 3 6 9 3 1 4 1 7 6 9]\n",
      "Total Correct: 99\n",
      "Accuracy:  99.0 %\n"
     ]
    }
   ],
   "source": [
    "print(\"Predicted Result:\",predictedLabelMulti)\n",
    "print(\"Actual Result:\",testLabels[0:100])\n",
    "correct = (predictedLabelMulti == testLabels[0:100])\n",
    "totalCorrect = np.sum(correct==True)\n",
    "print(\"Total Correct:\",totalCorrect)\n",
    "print(\"Accuracy: \",(totalCorrect/100)*100,\"%\")"
   ]
  },
  {
   "cell_type": "markdown",
   "metadata": {},
   "source": [
    "Testing over entire test set (Caution!!: This will take a lot of time to run)"
   ]
  },
  {
   "cell_type": "code",
   "execution_count": 22,
   "metadata": {
    "scrolled": true
   },
   "outputs": [
    {
     "name": "stdout",
     "output_type": "stream",
     "text": [
      "Multi Thread Processing Time:  1380.7558420460045  s\n"
     ]
    }
   ],
   "source": [
    "k = 3\n",
    "pool = ThreadPool(4)\n",
    "start = timer()\n",
    "predictedLabelMulti = pool.starmap(map_kNearestNeighbour, zip(itertools.repeat(trainingImages),itertools.repeat(trainingLabels),testImages,itertools.repeat(k)))\n",
    "predictedLabelMulti = np.array(predictedLabelMulti)\n",
    "end = timer()\n",
    "multiThreadTime = end - start\n",
    "print(\"Multi Thread Processing Time: \",multiThreadTime,\" s\") "
   ]
  },
  {
   "cell_type": "code",
   "execution_count": 23,
   "metadata": {},
   "outputs": [
    {
     "name": "stdout",
     "output_type": "stream",
     "text": [
      "Total Correct: 9705\n",
      "Accuracy:  97.05 %\n"
     ]
    }
   ],
   "source": [
    "correct = (predictedLabelMulti == testLabels)\n",
    "totalCorrect = np.sum(correct==True)\n",
    "print(\"Total Correct:\",totalCorrect)\n",
    "print(\"Accuracy: \",(totalCorrect/testLabels.shape[0])*100,\"%\") "
   ]
  },
  {
   "cell_type": "markdown",
   "metadata": {},
   "source": [
    "<h1>K Nearest Neightbour using sklearn</h1>\n",
    "We already implemented k nearest neightbour from scatch. From now on we will try to use sklearn built-in knn function"
   ]
  },
  {
   "cell_type": "code",
   "execution_count": 18,
   "metadata": {
    "collapsed": true
   },
   "outputs": [],
   "source": [
    "from sklearn.neighbors import KNeighborsClassifier\n",
    "knnClassifier = KNeighborsClassifier(n_neighbors=3,algorithm=\"kd_tree\");\n",
    "knnClassifier.fit(trainingImages,trainingLabels);"
   ]
  },
  {
   "cell_type": "markdown",
   "metadata": {},
   "source": [
    "Run speed test on 100 images"
   ]
  },
  {
   "cell_type": "code",
   "execution_count": 19,
   "metadata": {},
   "outputs": [
    {
     "name": "stdout",
     "output_type": "stream",
     "text": [
      "[7 2 1 0 4 1 4 9 5 9 0 6 9 0 1 5 9 7 3 4 9 6 6 5 4 0 7 4 0 1 3 1 3 4 7 2 7\n",
      " 1 2 1 1 7 4 2 3 5 1 2 4 4 6 3 5 5 6 0 4 1 9 5 7 8 9 3 7 9 6 4 3 0 7 0 2 9\n",
      " 1 7 3 2 9 7 7 6 2 7 8 4 7 3 6 1 3 6 9 3 1 4 1 7 6 9]\n",
      "Processing Time using sklearn:  7.54623495299893  s\n"
     ]
    }
   ],
   "source": [
    "start = timer()\n",
    "sklearnOutput = knnClassifier.predict(testImages[0:100,:])\n",
    "end = timer()\n",
    "sklearnTime = end - start\n",
    "print(sklearnOutput)\n",
    "print(\"Processing Time using sklearn: \",sklearnTime,\" s\") "
   ]
  },
  {
   "cell_type": "markdown",
   "metadata": {},
   "source": [
    "Run accuray test over entire test set"
   ]
  },
  {
   "cell_type": "code",
   "execution_count": 20,
   "metadata": {},
   "outputs": [
    {
     "name": "stdout",
     "output_type": "stream",
     "text": [
      "Processing Time using sklearn:  712.2936408200039  s\n"
     ]
    }
   ],
   "source": [
    "start = timer()\n",
    "sklearnOutput = knnClassifier.predict(testImages)\n",
    "end = timer()\n",
    "sklearnTime = end - start\n",
    "print(\"Processing Time using sklearn: \",sklearnTime,\" s\") "
   ]
  },
  {
   "cell_type": "code",
   "execution_count": 21,
   "metadata": {},
   "outputs": [
    {
     "name": "stdout",
     "output_type": "stream",
     "text": [
      "Total Correct: 9705\n",
      "Accuracy:  97.05 %\n"
     ]
    }
   ],
   "source": [
    "correct = (sklearnOutput == testLabels)\n",
    "totalCorrect = np.sum(correct==True)\n",
    "print(\"Total Correct:\",totalCorrect)\n",
    "print(\"Accuracy: \",(totalCorrect/testLabels.shape[0])*100,\"%\") "
   ]
  },
  {
   "cell_type": "markdown",
   "metadata": {},
   "source": [
    "Plot a confusion matrix"
   ]
  },
  {
   "cell_type": "code",
   "execution_count": 55,
   "metadata": {},
   "outputs": [],
   "source": [
    "from sklearn.metrics import confusion_matrix\n",
    "\n",
    "# Code From : http://scikit-learn.org/stable/auto_examples/model_selection/plot_confusion_matrix.html\n",
    "def plotConfusionMatrix(cm, classes,\n",
    "                          normalize=False,\n",
    "                          title='Confusion matrix',\n",
    "                          cmap=plt.cm.Blues):\n",
    "    \"\"\"\n",
    "    This function prints and plots the confusion matrix.\n",
    "    Normalization can be applied by setting `normalize=True`.\n",
    "    \"\"\"\n",
    "    if normalize:\n",
    "        cm = cm.astype('float') / cm.sum(axis=1)[:, np.newaxis]\n",
    "        print(\"Normalized confusion matrix\")\n",
    "    else:\n",
    "        print('Confusion matrix, without normalization')\n",
    "\n",
    "    #print(cm)\n",
    "    plt.figure(figsize = (10,10))\n",
    "    plt.imshow(cm, interpolation='nearest', cmap=cmap)\n",
    "    plt.title(title)\n",
    "    plt.colorbar()\n",
    "    tick_marks = np.arange(len(classes))\n",
    "    plt.xticks(tick_marks, classes, rotation=45)\n",
    "    plt.yticks(tick_marks, classes)\n",
    "\n",
    "    fmt = '.2f' if normalize else 'd'\n",
    "    thresh = cm.max() / 2.\n",
    "    for i, j in itertools.product(range(cm.shape[0]), range(cm.shape[1])):\n",
    "        plt.text(j, i, format(cm[i, j], fmt),\n",
    "                 horizontalalignment=\"center\",\n",
    "                 color=\"white\" if cm[i, j] > thresh else \"black\")\n",
    "\n",
    "    plt.tight_layout()\n",
    "    plt.ylabel('Actual label')\n",
    "    plt.xlabel('Predicted label')\n",
    "    plt.show()\n"
   ]
  },
  {
   "cell_type": "code",
   "execution_count": 56,
   "metadata": {},
   "outputs": [
    {
     "name": "stdout",
     "output_type": "stream",
     "text": [
      "Confusion matrix, without normalization\n"
     ]
    },
    {
     "data": {
      "image/png": "[encoded data removed]",
      "text/plain": [
       "<matplotlib.figure.Figure at 0x7f09921af550>"
      ]
     },
     "metadata": {},
     "output_type": "display_data"
    }
   ],
   "source": [
    "classLabels = [format(x,'d') for x in list(range(0,10))]\n",
    "confusionMatrix = confusion_matrix(testLabels, sklearnOutput);\n",
    "plotConfusionMatrix(confusionMatrix,classLabels)"
   ]
  },
  {
   "cell_type": "code",
   "execution_count": null,
   "metadata": {
    "collapsed": true
   },
   "outputs": [],
   "source": []
  }
 ],
 "metadata": {
  "kernelspec": {
   "display_name": "Python 3",
   "language": "python",
   "name": "python3"
  },
  "language_info": {
   "codemirror_mode": {
    "name": "ipython",
    "version": 3
   },
   "file_extension": ".py",
   "mimetype": "text/x-python",
   "name": "python",
   "nbconvert_exporter": "python",
   "pygments_lexer": "ipython3",
   "version": "3.6.2"
  }
 },
 "nbformat": 4,
 "nbformat_minor": 2
}
